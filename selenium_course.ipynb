{
 "cells": [
  {
   "cell_type": "markdown",
   "metadata": {},
   "source": [
    "# **Selenium:** Web Automation and Scrapping"
   ]
  },
  {
   "cell_type": "markdown",
   "metadata": {},
   "source": [
    "### Importing Selenium and Setting up Webdriver for Chrome/Firefox"
   ]
  },
  {
   "cell_type": "code",
   "execution_count": 1,
   "metadata": {},
   "outputs": [],
   "source": [
    "from selenium import webdriver\n",
    "import time\n",
    "\n",
    "\n",
    "browser = webdriver.Chrome() # requires chromedriver.exe\n",
    "# browser = webdriver.Firefox() # requires geckodriver.exe\n",
    "\n",
    "URL = \"https://www.amazon.com/Best-Sellers-Electronics-Computer-Servers/zgbs/electronics/11036071/\"\n",
    "browser.get(URL)"
   ]
  },
  {
   "cell_type": "markdown",
   "metadata": {},
   "source": [
    "### Defining a Function to use Webdriver repeatedly"
   ]
  },
  {
   "cell_type": "code",
   "execution_count": 5,
   "metadata": {},
   "outputs": [],
   "source": [
    "def start_browser():\n",
    "    from selenium import webdriver\n",
    "    browser = webdriver.Chrome()\n",
    "    return browser"
   ]
  },
  {
   "cell_type": "markdown",
   "metadata": {},
   "source": [
    "### Printing Title of a Website"
   ]
  },
  {
   "cell_type": "code",
   "execution_count": 3,
   "metadata": {},
   "outputs": [
    {
     "name": "stdout",
     "output_type": "stream",
     "text": [
      "Amazon Best Sellers: Best Computer Servers\n"
     ]
    }
   ],
   "source": [
    "browser = start_browser()\n",
    "URL = \"https://www.amazon.com/Best-Sellers-Electronics-Computer-Servers/zgbs/electronics/11036071/\"\n",
    "browser.get(URL)\n",
    "print(browser.title)"
   ]
  },
  {
   "cell_type": "markdown",
   "metadata": {},
   "source": [
    "### Fetch URL name and Html of a website"
   ]
  },
  {
   "cell_type": "code",
   "execution_count": null,
   "metadata": {},
   "outputs": [],
   "source": [
    "browser = start_browser()\n",
    "URL = \"https://www.amazon.com/Best-Sellers-Electronics-Computer-Servers/zgbs/electronics/11036071/\"\n",
    "browser.get(URL)\n",
    "\n",
    "print(browser.current_url)\n",
    "print(browser.page_source)"
   ]
  },
  {
   "cell_type": "markdown",
   "metadata": {},
   "source": [
    "## **Scrap Website:** Tech with Tim"
   ]
  },
  {
   "cell_type": "markdown",
   "metadata": {},
   "source": [
    "#### 1. Grab a Searchbar and Send Commands"
   ]
  },
  {
   "cell_type": "code",
   "execution_count": 8,
   "metadata": {},
   "outputs": [
    {
     "name": "stdout",
     "output_type": "stream",
     "text": [
      "Tech With Tim - Python & Java Programming Tutorials - techwithtim.net\n",
      "<selenium.webdriver.remote.webelement.WebElement (session=\"51a0195a7e123a86b577208a6c397e73\", element=\"cf494191-02ce-4613-b44c-e7f48361e3db\")>\n"
     ]
    }
   ],
   "source": [
    "browser = start_browser()\n",
    "URL = \"https://www.techwithtim.net/\"\n",
    "browser.get(URL)\n",
    "\n",
    "from selenium.webdriver.common.by import By\n",
    "from selenium.webdriver.common.keys import Keys # for Keyboard keys\n",
    "\n",
    "print(browser.title)\n",
    "search = browser.find_element(By.NAME, \"s\") # grabs searchbar on website\n",
    "search.send_keys(\"test\") # sending text to searchbar\n",
    "search.send_keys(Keys.RETURN) # hitting ENTER on searchbar"
   ]
  },
  {
   "cell_type": "markdown",
   "metadata": {},
   "source": [
    "#### 2. Fetch H1 titles of Search Page Results"
   ]
  },
  {
   "cell_type": "code",
   "execution_count": 27,
   "metadata": {},
   "outputs": [
    {
     "name": "stdout",
     "output_type": "stream",
     "text": [
      "Tech With Tim - Python & Java Programming Tutorials - techwithtim.net\n",
      "HTTP Methods – GET & POST\n",
      "Adding Bootstrap & Template Inheritance\n",
      "HTML Templates\n",
      "A Basic Website\n",
      "Events by Day\n",
      "Date From Speech P2\n",
      "Getting Microphone Input\n",
      "MessageBoxes & Popup Windows\n",
      "ComboBoxes\n",
      "Images/QPixmap\n"
     ]
    }
   ],
   "source": [
    "browser = start_browser()\n",
    "URL = \"https://www.techwithtim.net/\"\n",
    "browser.get(URL)\n",
    "\n",
    "from selenium.webdriver.common.by import By\n",
    "from selenium.webdriver.common.keys import Keys # for Keyboard keys\n",
    "from selenium.webdriver.support.ui import WebDriverWait\n",
    "from selenium.webdriver.support import expected_conditions as EC\n",
    "\n",
    "print(browser.title)\n",
    "search = browser.find_element(By.NAME, \"s\") # grabs searchbar on website\n",
    "search.send_keys(\"test\") # sending text to searchbar\n",
    "search.clear() # to empty the searchbar; just in case it has some value typed in already\n",
    "search.send_keys(Keys.RETURN) # hitting ENTER on searchbar\n",
    "\n",
    "\n",
    "try:\n",
    "    main = WebDriverWait(browser, 10).until(\n",
    "        EC.presence_of_element_located((By.ID, \"main\")) # Waiting 10 seconds so the page can load elements with ID \"main\"\n",
    "    )\n",
    "except:\n",
    "    browser.quit()\n",
    "\n",
    "articles = main.find_elements(By.TAG_NAME, \"article\") # Searching for tags with name \"article\"\n",
    "\n",
    "for article in articles: # looping through all the articles\n",
    "    header = article.find_element(By.CLASS_NAME,\"entry-title\").accessible_name # accessing h1 of each article\n",
    "    print(header)\n"
   ]
  },
  {
   "cell_type": "markdown",
   "metadata": {},
   "source": [
    "#### 3. Page Navigating and Clicking Elements"
   ]
  },
  {
   "cell_type": "code",
   "execution_count": 31,
   "metadata": {},
   "outputs": [],
   "source": [
    "from selenium import webdriver\n",
    "from selenium.webdriver.common.by import By\n",
    "from selenium.webdriver.common.keys import Keys # for Keyboard keys\n",
    "from selenium.webdriver.support.ui import WebDriverWait\n",
    "from selenium.webdriver.support import expected_conditions as EC\n",
    "\n",
    "browser = webdriver.Chrome()\n",
    "URL = \"https://www.techwithtim.net/\"\n",
    "browser.get(URL)\n",
    "\n",
    "try:\n",
    "    link = WebDriverWait(browser, 10).until(\n",
    "        EC.presence_of_element_located((By.LINK_TEXT, \"Python Programming\")) # Waiting pageload to Click a button\n",
    "    )\n",
    "    link.click()\n",
    "\n",
    "    element = WebDriverWait(browser, 10).until(\n",
    "    EC.presence_of_element_located((By.LINK_TEXT, \"Beginner Python Tutorials\")) # Waiting pageload to Click a button\n",
    "    )\n",
    "    element.click()\n",
    "\n",
    "    started = WebDriverWait(browser, 10).until(\n",
    "    EC.presence_of_element_located((By.ID, \"sow-button-19310003\")) # Waiting pageload to Click a button\n",
    "    )\n",
    "    started.click()\n",
    "\n",
    "    browser.back() # Go back to previous page\n",
    "    browser.forward() # Go to forward page\n",
    "\n",
    "except:\n",
    "    browser.quit()"
   ]
  },
  {
   "cell_type": "markdown",
   "metadata": {},
   "source": [
    "### **Automate Actions:** Cookie Clicker Website"
   ]
  },
  {
   "cell_type": "markdown",
   "metadata": {},
   "source": [
    "**Selenium Action Chains Documentation:** https://selenium-python.readthedocs.io/api.html#module-selenium.webdriver.common.action_chains"
   ]
  },
  {
   "cell_type": "code",
   "execution_count": 7,
   "metadata": {},
   "outputs": [],
   "source": [
    "from selenium import webdriver\n",
    "from selenium.webdriver.common.by import By\n",
    "from selenium.webdriver.common.keys import Keys # for Keyboard keys\n",
    "from selenium.webdriver.support.ui import WebDriverWait\n",
    "from selenium.webdriver.support import expected_conditions as EC\n",
    "from selenium.webdriver.common.action_chains import ActionChains\n",
    "\n",
    "browser = webdriver.Chrome()\n",
    "URL = \"https://orteil.dashnet.org/cookieclicker/\"\n",
    "browser.get(URL)\n",
    "\n",
    "try:\n",
    "    link = WebDriverWait(browser, 10).until(\n",
    "        EC.presence_of_element_located((By.ID, \"langSelect-EN\")) # Waiting pageload to Click a button\n",
    "    )\n",
    "    link.click()\n",
    "\n",
    "    browser.implicitly_wait(5)\n",
    "\n",
    "    cookie = browser.find_element(By.ID, \"bigCookie\")\n",
    "    cookie_count = browser.find_element(By.ID, \"cookies\")\n",
    "    items = browser.find_element(By.ID, \"productPrice0\")\n",
    "\n",
    "    actions = ActionChains(browser)\n",
    "\n",
    "    for i in range(500):\n",
    "        actions.click(cookie).perform()\n",
    "        # print(cookie_count.text.split(\" \")[0])\n",
    "        cookie_count_int = int(cookie_count.text.split(\" \")[0])\n",
    "        item_value = int(items.text)\n",
    "        if cookie_count_int == item_value:\n",
    "            upgrade_action = ActionChains(browser)\n",
    "            upgrade_action.move_to_element(items)\n",
    "            upgrade_action.click(items).perform()\n",
    "\n",
    "except:\n",
    "    browser.quit()\n"
   ]
  },
  {
   "cell_type": "markdown",
   "metadata": {},
   "source": [
    "### **Amazon:** Single Page Scrapping"
   ]
  },
  {
   "cell_type": "code",
   "execution_count": null,
   "metadata": {},
   "outputs": [],
   "source": [
    "from selenium import webdriver\n",
    "from selenium.webdriver.common.by import By\n",
    "\n",
    "browser = webdriver.Chrome()\n",
    "# browser.maximize_window() # For maximizing window\n",
    "# browser.implicitly_wait(20) # gives an implicit wait for 20 seconds\n",
    "\n",
    "browser.get(\"https://www.amazon.com/s?i=computers-intl-ship&bbn=16225007011&rh=n%3A16225007011%2Cp_36%3A1253503011&dc&fs=true&qid=1645954406&ref=sr_ex_n_1\")\n",
    "\n",
    "elem_list = browser.find_element(By.CSS_SELECTOR, \"div.s-main-slot.s-result-list.s-search-results.sg-row\")\n",
    "\n",
    "items = elem_list.find_elements(By.XPATH, \"//div[@data-component-type='s-search-result']\")\n",
    "\n",
    "for item in items:\n",
    "    title = item.find_element(By.TAG_NAME, \"h2\").text\n",
    "    price = \"No Price Found\"\n",
    "    image = \"No Image Found\"\n",
    "    link = item.find_element(By.CLASS_NAME, \"a-link-normal\").get_attribute(\"href\")\n",
    "\n",
    "    try:\n",
    "        price = item.find_element(By.CSS_SELECTOR, \".a-price\").text.replace(\"\\n\", \".\")   \n",
    "    except:\n",
    "        pass\n",
    "\n",
    "    try:\n",
    "        image = item.find_element(By.CSS_SELECTOR, \".s-image\").get_attribute(\"src\")\n",
    "    except:\n",
    "        pass\n",
    "\n",
    "    print(f\"IMAGE: {image}\")\n",
    "    print(f\"TITLE: {title}\")\n",
    "    print(f\"PRICE: {price}\")\n",
    "    print(f\"LINK: {link}\\n\")\n",
    "  "
   ]
  },
  {
   "cell_type": "markdown",
   "metadata": {},
   "source": [
    "### **UnitTest Framework:**"
   ]
  },
  {
   "cell_type": "markdown",
   "metadata": {},
   "source": []
  }
 ],
 "metadata": {
  "kernelspec": {
   "display_name": "Python 3.10.8 ('selenium_env')",
   "language": "python",
   "name": "python3"
  },
  "language_info": {
   "codemirror_mode": {
    "name": "ipython",
    "version": 3
   },
   "file_extension": ".py",
   "mimetype": "text/x-python",
   "name": "python",
   "nbconvert_exporter": "python",
   "pygments_lexer": "ipython3",
   "version": "3.10.8 | packaged by conda-forge | (main, Nov 24 2022, 14:07:00) [MSC v.1916 64 bit (AMD64)]"
  },
  "orig_nbformat": 4,
  "vscode": {
   "interpreter": {
    "hash": "630b974f88e77e6c0afc16e6983d3f061372a1679273518474dff7d5f0800fb8"
   }
  }
 },
 "nbformat": 4,
 "nbformat_minor": 2
}
