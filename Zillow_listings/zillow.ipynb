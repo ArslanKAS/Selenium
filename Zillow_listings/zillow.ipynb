{
 "cells": [
  {
   "cell_type": "code",
   "execution_count": 79,
   "metadata": {},
   "outputs": [],
   "source": [
    "import pandas as pd\n",
    "import requests\n",
    "from bs4 import BeautifulSoup\n",
    "from selenium import webdriver\n",
    "import time\n",
    "\n"
   ]
  },
  {
   "cell_type": "code",
   "execution_count": 2,
   "metadata": {},
   "outputs": [],
   "source": [
    "url = 'https://www.zillow.com/new-york-ny/rentals/?searchQueryState=%7B%22pagination%22%3A%7B%7D%2C%22usersSearchTerm%22%3A%22Faisalabad%22%2C%22mapBounds%22%3A%7B%22north%22%3A41.02086886410662%2C%22east%22%3A-73.3960323183594%2C%22south%22%3A40.37326037220637%2C%22west%22%3A-74.56332968164065%7D%2C%22isMapVisible%22%3Atrue%2C%22filterState%22%3A%7B%22ah%22%3A%7B%22value%22%3Atrue%7D%2C%22fr%22%3A%7B%22value%22%3Atrue%7D%2C%22fsba%22%3A%7B%22value%22%3Afalse%7D%2C%22fsbo%22%3A%7B%22value%22%3Afalse%7D%2C%22nc%22%3A%7B%22value%22%3Afalse%7D%2C%22cmsn%22%3A%7B%22value%22%3Afalse%7D%2C%22auc%22%3A%7B%22value%22%3Afalse%7D%2C%22fore%22%3A%7B%22value%22%3Afalse%7D%2C%22mp%22%3A%7B%22max%22%3A2000%7D%2C%22price%22%3A%7B%22max%22%3A411098%7D%7D%2C%22isListVisible%22%3Atrue%2C%22regionSelection%22%3A%5B%7B%22regionId%22%3A6181%2C%22regionType%22%3A6%7D%5D%7D'\n",
    "\n",
    "# Headers are used to access the websites as a real user (not a bot)\n",
    "headers={'User-Agent':'Mozilla/5.0 (Windows NT 6.3; Win 64 ; x64) Apple WeKit /537.36(KHTML , like Gecko) Chrome/80.0.3987.162 Safari/537.36'}"
   ]
  },
  {
   "cell_type": "code",
   "execution_count": 3,
   "metadata": {},
   "outputs": [],
   "source": [
    "webpage = requests.get(url, headers=headers).text"
   ]
  },
  {
   "cell_type": "code",
   "execution_count": 104,
   "metadata": {},
   "outputs": [],
   "source": [
    "soup = BeautifulSoup(webpage, \"html.parser\")"
   ]
  },
  {
   "cell_type": "code",
   "execution_count": 105,
   "metadata": {},
   "outputs": [
    {
     "data": {
      "text/plain": [
       "'New York NY Rental Listings'"
      ]
     },
     "execution_count": 105,
     "metadata": {},
     "output_type": "execute_result"
    }
   ],
   "source": [
    "soup.find_all(\"h1\")[0].text"
   ]
  },
  {
   "cell_type": "code",
   "execution_count": 109,
   "metadata": {},
   "outputs": [
    {
     "name": "stdout",
     "output_type": "stream",
     "text": [
      "https://www.zillow.com/b/park-haven-place-jamaica-ny-9hbn6z/\n",
      "https://www.zillow.com/b/alvista-rise-jamaica-ny-C64Xjv/\n",
      "https://www.zillow.com/b/57-elmhurst-llc-elmhurst-ny-9jgb5j/\n",
      "/b/wavecrest-gardens-far-rockaway-ny-97knd2/\n",
      "https://www.zillow.com/b/hillside-place-jamaica-ny-5Y2yqx/\n",
      "https://www.zillow.com/b/fairfield-manor-at-douglaston-little-neck-ny-5Y2wdF/\n",
      "/b/ocean-drive-brooklyn-ny-BdxsGq/\n",
      "/b/alta-by-common-long-island-city-ny-BK6Wsx/\n"
     ]
    },
    {
     "ename": "AttributeError",
     "evalue": "'NoneType' object has no attribute 'get'",
     "output_type": "error",
     "traceback": [
      "\u001b[1;31m---------------------------------------------------------------------------\u001b[0m",
      "\u001b[1;31mAttributeError\u001b[0m                            Traceback (most recent call last)",
      "Cell \u001b[1;32mIn [109], line 4\u001b[0m\n\u001b[0;32m      1\u001b[0m all_link_elements \u001b[39m=\u001b[39m soup\u001b[39m.\u001b[39mfindAll(\u001b[39m\"\u001b[39m\u001b[39mli\u001b[39m\u001b[39m\"\u001b[39m,{\u001b[39m\"\u001b[39m\u001b[39mclass\u001b[39m\u001b[39m\"\u001b[39m: \u001b[39m\"\u001b[39m\u001b[39mListItem-c11n-8-73-8__sc-10e22w8-0 srp__hpnp3q-0 enEXBq with_constellation\u001b[39m\u001b[39m\"\u001b[39m})\n\u001b[0;32m      3\u001b[0m \u001b[39mfor\u001b[39;00m link \u001b[39min\u001b[39;00m all_link_elements:\n\u001b[1;32m----> 4\u001b[0m     title \u001b[39m=\u001b[39m link\u001b[39m.\u001b[39;49mfind(\u001b[39m\"\u001b[39;49m\u001b[39ma\u001b[39;49m\u001b[39m\"\u001b[39;49m,{\u001b[39m\"\u001b[39;49m\u001b[39mdata-test\u001b[39;49m\u001b[39m\"\u001b[39;49m:\u001b[39m\"\u001b[39;49m\u001b[39mproperty-card-link\u001b[39;49m\u001b[39m\"\u001b[39;49m})\u001b[39m.\u001b[39;49mget(\u001b[39m\"\u001b[39m\u001b[39mhref\u001b[39m\u001b[39m\"\u001b[39m)\n\u001b[0;32m      5\u001b[0m     \u001b[39mprint\u001b[39m(title)\n",
      "\u001b[1;31mAttributeError\u001b[0m: 'NoneType' object has no attribute 'get'"
     ]
    }
   ],
   "source": [
    "all_link_elements = soup.findAll(\"li\",{\"class\": \"ListItem-c11n-8-73-8__sc-10e22w8-0 srp__hpnp3q-0 enEXBq with_constellation\"})\n",
    "\n",
    "for link in all_link_elements:\n",
    "    title = link.find(\"a\",{\"data-test\":\"property-card-link\"}).get(\"href\")\n",
    "    print(title)"
   ]
  },
  {
   "cell_type": "code",
   "execution_count": 81,
   "metadata": {},
   "outputs": [
    {
     "name": "stdout",
     "output_type": "stream",
     "text": [
      "Park Haven Place, 88 153rd St, Jamaica, NY 11432\n",
      "Alvista Rise, 147-25 94th Ave, Jamaica, NY 11435\n",
      "57 Elmhurst LLC, 94-25 57th Ave, Elmhurst, NY 11373\n",
      "Wavecrest Gardens | 20-10 Seagirt Blvd, Far Rockaway, NY\n",
      "Hillside Place, 8750 167th St, Jamaica, NY 11432\n",
      "Fairfield Manor at Douglaston, 43 Douglaston Pkwy, Little Neck, NY 11363\n",
      "Ocean Drive | 1 Ocean Dr, Brooklyn, NY\n",
      "ALTA by Common | 2922 Northern Blvd, Long Island City, NY\n"
     ]
    },
    {
     "ename": "AttributeError",
     "evalue": "'NoneType' object has no attribute 'text'",
     "output_type": "error",
     "traceback": [
      "\u001b[1;31m---------------------------------------------------------------------------\u001b[0m",
      "\u001b[1;31mAttributeError\u001b[0m                            Traceback (most recent call last)",
      "Cell \u001b[1;32mIn [81], line 8\u001b[0m\n\u001b[0;32m      6\u001b[0m \u001b[39mfor\u001b[39;00m item \u001b[39min\u001b[39;00m list_items:\n\u001b[0;32m      7\u001b[0m     time\u001b[39m.\u001b[39msleep(\u001b[39m2\u001b[39m)\n\u001b[1;32m----> 8\u001b[0m     \u001b[39mprint\u001b[39m(item\u001b[39m.\u001b[39;49mfind(\u001b[39m\"\u001b[39;49m\u001b[39maddress\u001b[39;49m\u001b[39m\"\u001b[39;49m, {\u001b[39m\"\u001b[39;49m\u001b[39mdata-test\u001b[39;49m\u001b[39m\"\u001b[39;49m:\u001b[39m\"\u001b[39;49m\u001b[39mproperty-card-addr\u001b[39;49m\u001b[39m\"\u001b[39;49m})\u001b[39m.\u001b[39;49mtext)\n",
      "\u001b[1;31mAttributeError\u001b[0m: 'NoneType' object has no attribute 'text'"
     ]
    }
   ],
   "source": [
    "listings_div = soup.find(\"div\", {\"id\": \"grid-search-results\"}) #srp__sc-1psn8tk-0 bfcHMx photo-cards photo-cards_extra-attribution with_constellation\"})\n",
    "listings = listings_div.find(\"ul\", {\"class\": \"List-c11n-8-73-8__sc-1smrmqp-0 srp__sc-1psn8tk-0 bfcHMx photo-cards photo-cards_extra-attribution with_constellation\"}) \n",
    "\n",
    "list_items = listings.findAll(\"li\", {\"class\" : \"ListItem-c11n-8-73-8__sc-10e22w8-0 srp__hpnp3q-0 enEXBq with_constellation\"})\n",
    "\n",
    "for item in list_items:\n",
    "    time.sleep(2)\n",
    "    print(item.find(\"address\", {\"data-test\":\"property-card-addr\"}).text)\n",
    "\n",
    "# for apart in listings:\n",
    "#     print(apart)"
   ]
  },
  {
   "cell_type": "code",
   "execution_count": null,
   "metadata": {},
   "outputs": [],
   "source": []
  }
 ],
 "metadata": {
  "kernelspec": {
   "display_name": "selenium_env",
   "language": "python",
   "name": "python3"
  },
  "language_info": {
   "codemirror_mode": {
    "name": "ipython",
    "version": 3
   },
   "file_extension": ".py",
   "mimetype": "text/x-python",
   "name": "python",
   "nbconvert_exporter": "python",
   "pygments_lexer": "ipython3",
   "version": "3.10.8"
  },
  "orig_nbformat": 4,
  "vscode": {
   "interpreter": {
    "hash": "630b974f88e77e6c0afc16e6983d3f061372a1679273518474dff7d5f0800fb8"
   }
  }
 },
 "nbformat": 4,
 "nbformat_minor": 2
}
