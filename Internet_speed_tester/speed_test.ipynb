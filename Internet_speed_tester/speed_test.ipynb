{
 "cells": [
  {
   "attachments": {},
   "cell_type": "markdown",
   "metadata": {},
   "source": [
    "# **Selenium:** Internet Speed Tester"
   ]
  },
  {
   "cell_type": "code",
   "execution_count": 20,
   "metadata": {},
   "outputs": [
    {
     "name": "stdout",
     "output_type": "stream",
     "text": [
      "Internet Speed Test | Fast.com\n",
      "Download Speed is: 5.3 Mbps\n",
      "Upload Speed is 0 Mbps\n"
     ]
    }
   ],
   "source": [
    "from selenium import webdriver\n",
    "from selenium.webdriver.common.by import By\n",
    "from selenium.webdriver.common.keys import Keys\n",
    "from selenium.webdriver.support.ui import WebDriverWait\n",
    "from selenium.webdriver.support import expected_conditions as EC\n",
    "\n",
    "class InternetSpeedBot:\n",
    "\n",
    "    PROMISED_DOWN = 12\n",
    "    PROMISED_UP = 10\n",
    "\n",
    "    def __init__(self):\n",
    "        self.driver = webdriver.Chrome()\n",
    "        self.down = 0\n",
    "        self.up = 0\n",
    "\n",
    "    def get_internet_speed(self):\n",
    "        self.driver.get(\"https://fast.com/\")\n",
    "        print(self.driver.title)\n",
    "\n",
    "        try:\n",
    "            showmore = WebDriverWait(self.driver, 40).until(\n",
    "                EC.element_to_be_clickable((By.ID, \"show-more-details-link\")))\n",
    "            self.down = self.driver.find_element(By.ID, \"speed-value\").text\n",
    "        except:\n",
    "            self.driver.quit()\n",
    "\n",
    "        try:\n",
    "            showmore.click()\n",
    "            wait = WebDriverWait(self.driver, 40).until(\n",
    "                EC.presence_of_element_located((By.CLASS_NAME, \"extra-measurement-value-container succeeded\")))     \n",
    "            self.up = self.driver.find_element(By.XPATH,'//*[@id=\"upload-value\"]').text\n",
    "        except:\n",
    "            self.driver.quit()        \n",
    "\n",
    "\n",
    "        print(f\"Download Speed is: {self.down} Mbps\\nUpload Speed is: {self.up} Mbps\")\n",
    "\n",
    "\n",
    "speedbot = InternetSpeedBot()\n",
    "speedbot.get_internet_speed()\n",
    "\n"
   ]
  },
  {
   "cell_type": "code",
   "execution_count": null,
   "metadata": {},
   "outputs": [],
   "source": []
  }
 ],
 "metadata": {
  "kernelspec": {
   "display_name": "Python 3.10.8 ('selenium_env')",
   "language": "python",
   "name": "python3"
  },
  "language_info": {
   "codemirror_mode": {
    "name": "ipython",
    "version": 3
   },
   "file_extension": ".py",
   "mimetype": "text/x-python",
   "name": "python",
   "nbconvert_exporter": "python",
   "pygments_lexer": "ipython3",
   "version": "3.10.8"
  },
  "orig_nbformat": 4,
  "vscode": {
   "interpreter": {
    "hash": "630b974f88e77e6c0afc16e6983d3f061372a1679273518474dff7d5f0800fb8"
   }
  }
 },
 "nbformat": 4,
 "nbformat_minor": 2
}
