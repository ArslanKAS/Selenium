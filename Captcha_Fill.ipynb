{
 "cells": [
  {
   "attachments": {},
   "cell_type": "markdown",
   "id": "a409384a",
   "metadata": {},
   "source": [
    "# **Captcha Fill:** Active Tenders | Government of India"
   ]
  },
  {
   "attachments": {},
   "cell_type": "markdown",
   "id": "db99fce7",
   "metadata": {},
   "source": [
    "Install Tesseract OCR x64 from the following:\n",
    "https://github.com/UB-Mannheim/tesseract/wiki"
   ]
  },
  {
   "attachments": {},
   "cell_type": "markdown",
   "id": "9639e099",
   "metadata": {},
   "source": [
    "### Selenium Setup"
   ]
  },
  {
   "cell_type": "code",
   "execution_count": 1,
   "id": "8b0a070f",
   "metadata": {},
   "outputs": [],
   "source": [
    "from selenium import webdriver\n",
    "from selenium.webdriver.chrome.service import Service\n",
    "from webdriver_manager.chrome import ChromeDriverManager\n",
    "\n",
    "driver = webdriver.Chrome(service=Service(ChromeDriverManager().install()))\n",
    "driver.get(\"https://www.google.com\")"
   ]
  },
  {
   "attachments": {},
   "cell_type": "markdown",
   "id": "02ecd56e",
   "metadata": {},
   "source": [
    "### Reading and Filling Captcha"
   ]
  },
  {
   "cell_type": "code",
   "execution_count": null,
   "id": "c716be7c",
   "metadata": {},
   "outputs": [],
   "source": [
    "import pytesseract\n",
    "from PIL import Image\n",
    "from io import BytesIO\n",
    "from urllib import request\n",
    "from selenium import webdriver\n",
    "from selenium.webdriver.common.by import By\n",
    "from selenium.webdriver.common.keys import Keys\n",
    "from selenium.webdriver.support.ui import WebDriverWait\n",
    "from selenium.webdriver.support import expected_conditions as EC\n",
    "\n",
    "# Tesseract Path\n",
    "pytesseract.pytesseract.tesseract_cmd = r\"C:\\Program Files\\Tesseract-OCR\\tesseract.exe\"\n",
    "\n",
    "# Start the webdriver\n",
    "driver = webdriver.Chrome()\n",
    "\n",
    "# Open the website\n",
    "driver.get(\"https://etenders.gov.in/eprocure/app?page=FrontEndLatestActiveTenders&service=page\")\n",
    "\n",
    "# Wait for the CAPTCHA image to load\n",
    "captcha_img = WebDriverWait(driver, 10).until(\n",
    "    EC.presence_of_element_located((By.XPATH, '//*[@id=\"captchaImage\"]'))\n",
    ")\n",
    "\n",
    "# Fetch the CAPTCHA image\n",
    "captcha_src = captcha_img.get_attribute(\"src\")\n",
    "\n",
    "# Open the CAPTCHA image with request and PIL\n",
    "with request.urlopen(captcha_src) as response:\n",
    "   im = response.read()\n",
    "\n",
    "captcha = Image.open(BytesIO(im))\n",
    "\n",
    "# Extract the text from the CAPTCHA image\n",
    "captcha_text = pytesseract.image_to_string(captcha)\n",
    "captcha_text_clear = ''.join(filter(str.isalnum, captcha_text))\n",
    "print(captcha_text_clear)\n",
    "\n",
    "# Enter the extracted CAPTCHA text into the input field\n",
    "captcha_input = driver.find_element(By.XPATH, '//*[@id=\"captchaText\"]')\n",
    "captcha_input.send_keys(captcha_text_clear)\n",
    "WebDriverWait(driver, 5).until(\n",
    "    captcha_input.send_keys(Keys.ENTER)\n",
    ")"
   ]
  }
 ],
 "metadata": {
  "kernelspec": {
   "display_name": "selenium_env",
   "language": "python",
   "name": "python3"
  },
  "language_info": {
   "codemirror_mode": {
    "name": "ipython",
    "version": 3
   },
   "file_extension": ".py",
   "mimetype": "text/x-python",
   "name": "python",
   "nbconvert_exporter": "python",
   "pygments_lexer": "ipython3",
   "version": "3.10.8"
  },
  "vscode": {
   "interpreter": {
    "hash": "630b974f88e77e6c0afc16e6983d3f061372a1679273518474dff7d5f0800fb8"
   }
  }
 },
 "nbformat": 4,
 "nbformat_minor": 5
}
